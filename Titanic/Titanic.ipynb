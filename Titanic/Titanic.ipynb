{
 "metadata": {
  "name": ""
 },
 "nbformat": 3,
 "nbformat_minor": 0,
 "worksheets": [
  {
   "cells": [
    {
     "cell_type": "code",
     "collapsed": false,
     "input": [
      "from sklearn.ensemble import RandomForestClassifier\n",
      "from numpy import genfromtxt, savetxt, array, mean\n",
      "import csv\n",
      "\n",
      "\n",
      "def fileToArray(filename, columnsToKeep):\n",
      "    reader = csv.reader(open(filename,'r'))\n",
      "    lines = []\n",
      "    header = reader.next()\n",
      "    toKeepIds = [header.index(x) for x in columnsToKeep]\n",
      "    for line in reader:\n",
      "        line[:] = [ item for i,item in enumerate(line) if i in toKeepIds ]\n",
      "        for i in range(len(line)):\n",
      "            if line[i]=='male':\n",
      "                line[i] = -1\n",
      "            elif line[i]=='female':\n",
      "                line[i]=1\n",
      "            elif line[i].isdigit():\n",
      "                line[i] = int(line[i])\n",
      "        #line[:] = [-1 if x=='male' else x for x in line]\n",
      "        #line[:] = [1 if x=='female' else x for x in line]\n",
      "        lines.append(line)\n",
      "    return array(lines)\n",
      "\n",
      "# TODO: add column age\n",
      "dataset = fileToArray('Data/train.csv', columnsToKeep = ['Survived','Pclass','Sex','Age', 'SibSp', 'Parch'])\n",
      "test = fileToArray('Data/test.csv',columnsToKeep = ['Pclass','Sex','Age','SibSp', 'Parch'])\n",
      "#create the training & test sets, skipping the header row with [1:]\n",
      "#dataset = genfromtxt(open('Data/train.csv','r'), delimiter=',', dtype='f8')\n"
     ],
     "language": "python",
     "metadata": {},
     "outputs": [],
     "prompt_number": 92
    },
    {
     "cell_type": "code",
     "collapsed": false,
     "input": [
      "dataset"
     ],
     "language": "python",
     "metadata": {},
     "outputs": [
      {
       "metadata": {},
       "output_type": "pyout",
       "prompt_number": 93,
       "text": [
        "array([['0', '3', '-1', '22', '1', '0'],\n",
        "       ['1', '1', '1', '38', '1', '0'],\n",
        "       ['1', '3', '1', '26', '0', '0'],\n",
        "       ..., \n",
        "       ['0', '3', '1', '', '1', '2'],\n",
        "       ['1', '1', '-1', '26', '0', '0'],\n",
        "       ['0', '3', '-1', '32', '0', '0']], \n",
        "      dtype='|S4')"
       ]
      }
     ],
     "prompt_number": 93
    },
    {
     "cell_type": "code",
     "collapsed": false,
     "input": [
      "def missingToMean(ages):\n",
      "    listWithoutMissing = []\n",
      "    for age in ages:\n",
      "        if age != '':\n",
      "            listWithoutMissing.append(age.astype(float))\n",
      "    agesMean = mean(listWithoutMissing)\n",
      "    for i in range(ages.size):\n",
      "        if ages[i]=='':\n",
      "            ages[i] = agesMean\n",
      "    return ages\n",
      "\n",
      "dataset[:,3] = missingToMean(dataset[:,3])\n",
      "dataset = dataset.astype(float).astype(int)\n",
      "test[:,2] = missingToMean(test[:,2])\n",
      "test = test.astype(float).astype(int)"
     ],
     "language": "python",
     "metadata": {},
     "outputs": [],
     "prompt_number": 94
    },
    {
     "cell_type": "code",
     "collapsed": false,
     "input": [
      "test"
     ],
     "language": "python",
     "metadata": {},
     "outputs": [
      {
       "metadata": {},
       "output_type": "pyout",
       "prompt_number": 95,
       "text": [
        "array([[ 3, -1, 34,  0,  0],\n",
        "       [ 3,  1, 47,  1,  0],\n",
        "       [ 2, -1, 62,  0,  0],\n",
        "       ..., \n",
        "       [ 3, -1, 38,  0,  0],\n",
        "       [ 3, -1, 30,  0,  0],\n",
        "       [ 3, -1, 30,  1,  1]])"
       ]
      }
     ],
     "prompt_number": 95
    },
    {
     "cell_type": "code",
     "collapsed": false,
     "input": [
      "dataset"
     ],
     "language": "python",
     "metadata": {},
     "outputs": [
      {
       "metadata": {},
       "output_type": "pyout",
       "prompt_number": 96,
       "text": [
        "array([[ 0,  3, -1, 22,  1,  0],\n",
        "       [ 1,  1,  1, 38,  1,  0],\n",
        "       [ 1,  3,  1, 26,  0,  0],\n",
        "       ..., \n",
        "       [ 0,  3,  1, 29,  1,  2],\n",
        "       [ 1,  1, -1, 26,  0,  0],\n",
        "       [ 0,  3, -1, 32,  0,  0]])"
       ]
      }
     ],
     "prompt_number": 96
    },
    {
     "cell_type": "code",
     "collapsed": false,
     "input": [
      "target = [int(x[0]) for x in dataset]\n",
      "train = [x[1:] for x in dataset]\n",
      "rf = RandomForestClassifier(n_estimators=10)\n",
      "rf.fit(train, target)\n",
      "prediction = [[index + 892, x] for index, x in enumerate(rf.predict(test))]\n",
      "\n",
      "# info on Python formatting: http://docs.python.org/2/library/stdtypes.html#string-formatting-operations\n",
      "savetxt('Data/submission.csv', prediction, delimiter=',', fmt='%d,%d', \n",
      "        header='PassengerId,Survived', comments = '')\n"
     ],
     "language": "python",
     "metadata": {},
     "outputs": [],
     "prompt_number": 97
    },
    {
     "cell_type": "code",
     "collapsed": false,
     "input": [
      "linetrain"
     ],
     "language": "python",
     "metadata": {},
     "outputs": [
      {
       "metadata": {},
       "output_type": "pyout",
       "prompt_number": 22,
       "text": [
        "['2',\n",
        " '1',\n",
        " '1',\n",
        " '\"Cumings',\n",
        " ' Mrs. John Bradley (Florence Briggs Thayer)\"',\n",
        " 'female',\n",
        " '38',\n",
        " '1',\n",
        " '0',\n",
        " 'PC 17599',\n",
        " '71.2833',\n",
        " 'C85',\n",
        " 'C\\r\\n']"
       ]
      }
     ],
     "prompt_number": 22
    },
    {
     "cell_type": "code",
     "collapsed": false,
     "input": [],
     "language": "python",
     "metadata": {},
     "outputs": []
    }
   ],
   "metadata": {}
  }
 ]
}